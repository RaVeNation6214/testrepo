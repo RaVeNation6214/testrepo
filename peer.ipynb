{
 "cells": [
  {
   "cell_type": "markdown",
   "id": "30f276d8-c3ac-4bbf-90b4-7e15f620502f",
   "metadata": {
    "jupyter": {
     "source_hidden": true
    }
   },
   "source": [
    "# My Jupyter Notebook Title\r\n"
   ]
  },
  {
   "cell_type": "markdown",
   "id": "fb2190bb-5f20-4514-8b03-51ae2d5afda0",
   "metadata": {},
   "source": [
    "this is my first peer to peer project"
   ]
  },
  {
   "cell_type": "markdown",
   "id": "0e95198e-5dde-456c-8d6e-827cdf50c9da",
   "metadata": {},
   "source": [
    "list of data science languages are :-\n",
    "Python, R, SQL, MATLAB, Java, Scala, Julia, and Perl"
   ]
  },
  {
   "cell_type": "markdown",
   "id": "5441e457-4766-4b1a-ab50-2611cbbd6da7",
   "metadata": {},
   "source": [
    "list of data science libraries :-\n",
    "Pandas,Numpy,scipy,TensorFlow and ggplot"
   ]
  },
  {
   "cell_type": "markdown",
   "id": "799d0bff-bd86-4ada-af7b-c49ab8fcac57",
   "metadata": {},
   "source": [
    "table of data science tools :-\n",
    "# Data Science Tools\r\n",
    "\r\n",
    "| Category              | Tools                          |\r\n",
    "|-----------------------|--------------------------------|\r\n",
    "| Programming Languages | Python, R, Julia                |\r\n",
    "| Data Manipulation     | Pandas, dplyr, NumPy            |\r\n",
    "| Machine Learning      | Scikit-learn, TensorFlow, PyTorch|\r\n",
    "| Data Visualization    | Matplotlib, Seaborn, Plotly     |\r\n",
    "| Big Data              | Apache Spark, Hadoop            |\r\n",
    "| Cloud Platforms       | AWS, Google Cloud Platform, Azure|\r\n",
    "| IDEs                  | Jupyter Notebook, RStudio, VS Code|\r\n",
    "| Version Control       | Git, GitHub, GitLab             |\r\n"
   ]
  },
  {
   "cell_type": "markdown",
   "id": "d6c98f3e-d435-4f6b-8059-6d757194f26b",
   "metadata": {},
   "source": [
    "\n",
    "# Arithmetic Expression Examples\r\n",
    "\r\n",
    "Arithmetic expressions in mathematics involve basic operations such as addition, subtraction, multiplication, and division. Here are some examples:\r\n",
    "\r\n",
    "- **Addition**: `2 + 3 = 5`\r\n",
    "- **Subtraction**: `10 - 5 = 5`\r\n",
    "- **Multiplication**: `4 * 6 = 24`\r\n",
    "- **Division**: `15 / 3 = 5`\r\n",
    "\r\n",
    "These operations can be combined using parentheses to control the order of operations, similar to standard algebraic rules.\r\n",
    "\r\n",
    "Example with parentheses:\r\n",
    "\r\n"
   ]
  },
  {
   "cell_type": "code",
   "execution_count": null,
   "id": "c45bf463-b160-450c-a7a5-91827b343914",
   "metadata": {},
   "outputs": [],
   "source": [
    "# Multiply and add numbers\r\n",
    "a = 5\r\n",
    "b = 3\r\n",
    "\r\n",
    "# Multiplication\r\n",
    "result_multiply = a * b\r\n",
    "print(f\"Multiplication result: {result_multiply}\")\r\n",
    "\r\n",
    "# Addition\r\n",
    "result_add = a + b\r\n",
    "print(f\"Addition result: {result_add}\")\r\n"
   ]
  },
  {
   "cell_type": "code",
   "execution_count": null,
   "id": "b3c0aeff-8075-4d57-983b-a290f6e50255",
   "metadata": {},
   "outputs": [],
   "source": [
    "# Convert minutes to hours\n",
    "minutes = 150\n",
    "\n",
    "# Conversion\n",
    "hours = minutes / 60\n",
    "\n",
    "# Display the result\n",
    "print(f\"{minutes} minutes is equal to {hours} hours\")\n"
   ]
  },
  {
   "cell_type": "markdown",
   "id": "82373aaf-68e2-4174-9eeb-2621d6bede90",
   "metadata": {},
   "source": [
    "# Author\n",
    "\n",
    "Author: Akshat Thakur\n"
   ]
  }
 ],
 "metadata": {
  "kernelspec": {
   "display_name": "Python 3 (ipykernel)",
   "language": "python",
   "name": "python3"
  },
  "language_info": {
   "codemirror_mode": {
    "name": "ipython",
    "version": 3
   },
   "file_extension": ".py",
   "mimetype": "text/x-python",
   "name": "python",
   "nbconvert_exporter": "python",
   "pygments_lexer": "ipython3",
   "version": "3.12.4"
  }
 },
 "nbformat": 4,
 "nbformat_minor": 5
}
